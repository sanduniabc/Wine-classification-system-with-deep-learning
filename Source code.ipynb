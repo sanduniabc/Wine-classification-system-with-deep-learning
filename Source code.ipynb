{
  "nbformat": 4,
  "nbformat_minor": 0,
  "metadata": {
    "colab": {
      "provenance": []
    },
    "kernelspec": {
      "name": "python3",
      "display_name": "Python 3"
    },
    "language_info": {
      "name": "python"
    }
  },
  "cells": [
    {
      "cell_type": "code",
      "execution_count": 2,
      "metadata": {
        "id": "OFztzVHi8bHB"
      },
      "outputs": [],
      "source": [
        "#importing dependencies\n",
        "import numpy as np       # to perform a wide variety of mathematical operations on arrays\n",
        "import pandas as pd      #to analyze data and it Learns by Reading\n",
        "import matplotlib.pyplot as plt    # to create static, animated, and interactive visualizations\n",
        "import sklearn.datasets      #contains few small standard datasets that do not require to download any file from some external website\n",
        "from sklearn.model_selection import train_test_split     #train_test_split function splits data to test and training data"
      ]
    },
    {
      "cell_type": "markdown",
      "source": [
        "Data Collection and Preprocessing"
      ],
      "metadata": {
        "id": "PTBmFc-Z8r2o"
      }
    },
    {
      "cell_type": "code",
      "source": [
        "# loading the data from sklearn\n",
        "wine_dataset = sklearn.datasets.load_wine()   #data is stored in frorm of ditionary"
      ],
      "metadata": {
        "id": "JUZb6Mr18y33"
      },
      "execution_count": null,
      "outputs": []
    },
    {
      "cell_type": "code",
      "source": [
        "print(wine_dataset)  # two main element key and target"
      ],
      "metadata": {
        "colab": {
          "base_uri": "https://localhost:8080/"
        },
        "id": "_9EBZxx585d_",
        "outputId": "32f9fdcf-8c1f-4b2f-c119-807f75b564e2"
      },
      "execution_count": null,
      "outputs": [
        {
          "output_type": "stream",
          "name": "stdout",
          "text": [
            "{'data': array([[1.423e+01, 1.710e+00, 2.430e+00, ..., 1.040e+00, 3.920e+00,\n",
            "        1.065e+03],\n",
            "       [1.320e+01, 1.780e+00, 2.140e+00, ..., 1.050e+00, 3.400e+00,\n",
            "        1.050e+03],\n",
            "       [1.316e+01, 2.360e+00, 2.670e+00, ..., 1.030e+00, 3.170e+00,\n",
            "        1.185e+03],\n",
            "       ...,\n",
            "       [1.327e+01, 4.280e+00, 2.260e+00, ..., 5.900e-01, 1.560e+00,\n",
            "        8.350e+02],\n",
            "       [1.317e+01, 2.590e+00, 2.370e+00, ..., 6.000e-01, 1.620e+00,\n",
            "        8.400e+02],\n",
            "       [1.413e+01, 4.100e+00, 2.740e+00, ..., 6.100e-01, 1.600e+00,\n",
            "        5.600e+02]]), 'target': array([0, 0, 0, 0, 0, 0, 0, 0, 0, 0, 0, 0, 0, 0, 0, 0, 0, 0, 0, 0, 0, 0,\n",
            "       0, 0, 0, 0, 0, 0, 0, 0, 0, 0, 0, 0, 0, 0, 0, 0, 0, 0, 0, 0, 0, 0,\n",
            "       0, 0, 0, 0, 0, 0, 0, 0, 0, 0, 0, 0, 0, 0, 0, 1, 1, 1, 1, 1, 1, 1,\n",
            "       1, 1, 1, 1, 1, 1, 1, 1, 1, 1, 1, 1, 1, 1, 1, 1, 1, 1, 1, 1, 1, 1,\n",
            "       1, 1, 1, 1, 1, 1, 1, 1, 1, 1, 1, 1, 1, 1, 1, 1, 1, 1, 1, 1, 1, 1,\n",
            "       1, 1, 1, 1, 1, 1, 1, 1, 1, 1, 1, 1, 1, 1, 1, 1, 1, 1, 1, 1, 2, 2,\n",
            "       2, 2, 2, 2, 2, 2, 2, 2, 2, 2, 2, 2, 2, 2, 2, 2, 2, 2, 2, 2, 2, 2,\n",
            "       2, 2, 2, 2, 2, 2, 2, 2, 2, 2, 2, 2, 2, 2, 2, 2, 2, 2, 2, 2, 2, 2,\n",
            "       2, 2]), 'frame': None, 'target_names': array(['class_0', 'class_1', 'class_2'], dtype='<U7'), 'DESCR': '.. _wine_dataset:\\n\\nWine recognition dataset\\n------------------------\\n\\n**Data Set Characteristics:**\\n\\n    :Number of Instances: 178 (50 in each of three classes)\\n    :Number of Attributes: 13 numeric, predictive attributes and the class\\n    :Attribute Information:\\n \\t\\t- Alcohol\\n \\t\\t- Malic acid\\n \\t\\t- Ash\\n\\t\\t- Alcalinity of ash  \\n \\t\\t- Magnesium\\n\\t\\t- Total phenols\\n \\t\\t- Flavanoids\\n \\t\\t- Nonflavanoid phenols\\n \\t\\t- Proanthocyanins\\n\\t\\t- Color intensity\\n \\t\\t- Hue\\n \\t\\t- OD280/OD315 of diluted wines\\n \\t\\t- Proline\\n\\n    - class:\\n            - class_0\\n            - class_1\\n            - class_2\\n\\t\\t\\n    :Summary Statistics:\\n    \\n    ============================= ==== ===== ======= =====\\n                                   Min   Max   Mean     SD\\n    ============================= ==== ===== ======= =====\\n    Alcohol:                      11.0  14.8    13.0   0.8\\n    Malic Acid:                   0.74  5.80    2.34  1.12\\n    Ash:                          1.36  3.23    2.36  0.27\\n    Alcalinity of Ash:            10.6  30.0    19.5   3.3\\n    Magnesium:                    70.0 162.0    99.7  14.3\\n    Total Phenols:                0.98  3.88    2.29  0.63\\n    Flavanoids:                   0.34  5.08    2.03  1.00\\n    Nonflavanoid Phenols:         0.13  0.66    0.36  0.12\\n    Proanthocyanins:              0.41  3.58    1.59  0.57\\n    Colour Intensity:              1.3  13.0     5.1   2.3\\n    Hue:                          0.48  1.71    0.96  0.23\\n    OD280/OD315 of diluted wines: 1.27  4.00    2.61  0.71\\n    Proline:                       278  1680     746   315\\n    ============================= ==== ===== ======= =====\\n\\n    :Missing Attribute Values: None\\n    :Class Distribution: class_0 (59), class_1 (71), class_2 (48)\\n    :Creator: R.A. Fisher\\n    :Donor: Michael Marshall (MARSHALL%PLU@io.arc.nasa.gov)\\n    :Date: July, 1988\\n\\nThis is a copy of UCI ML Wine recognition datasets.\\nhttps://archive.ics.uci.edu/ml/machine-learning-databases/wine/wine.data\\n\\nThe data is the results of a chemical analysis of wines grown in the same\\nregion in Italy by three different cultivators. There are thirteen different\\nmeasurements taken for different constituents found in the three types of\\nwine.\\n\\nOriginal Owners: \\n\\nForina, M. et al, PARVUS - \\nAn Extendible Package for Data Exploration, Classification and Correlation. \\nInstitute of Pharmaceutical and Food Analysis and Technologies,\\nVia Brigata Salerno, 16147 Genoa, Italy.\\n\\nCitation:\\n\\nLichman, M. (2013). UCI Machine Learning Repository\\n[https://archive.ics.uci.edu/ml]. Irvine, CA: University of California,\\nSchool of Information and Computer Science. \\n\\n.. topic:: References\\n\\n  (1) S. Aeberhard, D. Coomans and O. de Vel, \\n  Comparison of Classifiers in High Dimensional Settings, \\n  Tech. Rep. no. 92-02, (1992), Dept. of Computer Science and Dept. of  \\n  Mathematics and Statistics, James Cook University of North Queensland. \\n  (Also submitted to Technometrics). \\n\\n  The data was used with many others for comparing various \\n  classifiers. The classes are separable, though only RDA \\n  has achieved 100% correct classification. \\n  (RDA : 100%, QDA 99.4%, LDA 98.9%, 1NN 96.1% (z-transformed data)) \\n  (All results using the leave-one-out technique) \\n\\n  (2) S. Aeberhard, D. Coomans and O. de Vel, \\n  \"THE CLASSIFICATION PERFORMANCE OF RDA\" \\n  Tech. Rep. no. 92-01, (1992), Dept. of Computer Science and Dept. of \\n  Mathematics and Statistics, James Cook University of North Queensland. \\n  (Also submitted to Journal of Chemometrics).\\n', 'feature_names': ['alcohol', 'malic_acid', 'ash', 'alcalinity_of_ash', 'magnesium', 'total_phenols', 'flavanoids', 'nonflavanoid_phenols', 'proanthocyanins', 'color_intensity', 'hue', 'od280/od315_of_diluted_wines', 'proline']}\n"
          ]
        }
      ]
    },
    {
      "cell_type": "code",
      "source": [
        "# convert loaded data  to pandas data frame\n",
        "data_frame = pd.DataFrame(wine_dataset.data, columns = wine_dataset.feature_names)"
      ],
      "metadata": {
        "id": "3xMv6Y-X9JRv"
      },
      "execution_count": null,
      "outputs": []
    },
    {
      "cell_type": "code",
      "source": [
        "# print the first 5 rows of the dataframe\n",
        "data_frame.head()"
      ],
      "metadata": {
        "colab": {
          "base_uri": "https://localhost:8080/",
          "height": 270
        },
        "id": "mF8unZfv9Swe",
        "outputId": "533ad901-0fa4-4c10-81e3-2737756dadb8"
      },
      "execution_count": null,
      "outputs": [
        {
          "output_type": "execute_result",
          "data": {
            "text/plain": [
              "   alcohol  malic_acid   ash  alcalinity_of_ash  magnesium  total_phenols  \\\n",
              "0    14.23        1.71  2.43               15.6      127.0           2.80   \n",
              "1    13.20        1.78  2.14               11.2      100.0           2.65   \n",
              "2    13.16        2.36  2.67               18.6      101.0           2.80   \n",
              "3    14.37        1.95  2.50               16.8      113.0           3.85   \n",
              "4    13.24        2.59  2.87               21.0      118.0           2.80   \n",
              "\n",
              "   flavanoids  nonflavanoid_phenols  proanthocyanins  color_intensity   hue  \\\n",
              "0        3.06                  0.28             2.29             5.64  1.04   \n",
              "1        2.76                  0.26             1.28             4.38  1.05   \n",
              "2        3.24                  0.30             2.81             5.68  1.03   \n",
              "3        3.49                  0.24             2.18             7.80  0.86   \n",
              "4        2.69                  0.39             1.82             4.32  1.04   \n",
              "\n",
              "   od280/od315_of_diluted_wines  proline  \n",
              "0                          3.92   1065.0  \n",
              "1                          3.40   1050.0  \n",
              "2                          3.17   1185.0  \n",
              "3                          3.45   1480.0  \n",
              "4                          2.93    735.0  "
            ],
            "text/html": [
              "\n",
              "  <div id=\"df-acbc06fc-a10c-44f2-a39e-8a1373363380\">\n",
              "    <div class=\"colab-df-container\">\n",
              "      <div>\n",
              "<style scoped>\n",
              "    .dataframe tbody tr th:only-of-type {\n",
              "        vertical-align: middle;\n",
              "    }\n",
              "\n",
              "    .dataframe tbody tr th {\n",
              "        vertical-align: top;\n",
              "    }\n",
              "\n",
              "    .dataframe thead th {\n",
              "        text-align: right;\n",
              "    }\n",
              "</style>\n",
              "<table border=\"1\" class=\"dataframe\">\n",
              "  <thead>\n",
              "    <tr style=\"text-align: right;\">\n",
              "      <th></th>\n",
              "      <th>alcohol</th>\n",
              "      <th>malic_acid</th>\n",
              "      <th>ash</th>\n",
              "      <th>alcalinity_of_ash</th>\n",
              "      <th>magnesium</th>\n",
              "      <th>total_phenols</th>\n",
              "      <th>flavanoids</th>\n",
              "      <th>nonflavanoid_phenols</th>\n",
              "      <th>proanthocyanins</th>\n",
              "      <th>color_intensity</th>\n",
              "      <th>hue</th>\n",
              "      <th>od280/od315_of_diluted_wines</th>\n",
              "      <th>proline</th>\n",
              "    </tr>\n",
              "  </thead>\n",
              "  <tbody>\n",
              "    <tr>\n",
              "      <th>0</th>\n",
              "      <td>14.23</td>\n",
              "      <td>1.71</td>\n",
              "      <td>2.43</td>\n",
              "      <td>15.6</td>\n",
              "      <td>127.0</td>\n",
              "      <td>2.80</td>\n",
              "      <td>3.06</td>\n",
              "      <td>0.28</td>\n",
              "      <td>2.29</td>\n",
              "      <td>5.64</td>\n",
              "      <td>1.04</td>\n",
              "      <td>3.92</td>\n",
              "      <td>1065.0</td>\n",
              "    </tr>\n",
              "    <tr>\n",
              "      <th>1</th>\n",
              "      <td>13.20</td>\n",
              "      <td>1.78</td>\n",
              "      <td>2.14</td>\n",
              "      <td>11.2</td>\n",
              "      <td>100.0</td>\n",
              "      <td>2.65</td>\n",
              "      <td>2.76</td>\n",
              "      <td>0.26</td>\n",
              "      <td>1.28</td>\n",
              "      <td>4.38</td>\n",
              "      <td>1.05</td>\n",
              "      <td>3.40</td>\n",
              "      <td>1050.0</td>\n",
              "    </tr>\n",
              "    <tr>\n",
              "      <th>2</th>\n",
              "      <td>13.16</td>\n",
              "      <td>2.36</td>\n",
              "      <td>2.67</td>\n",
              "      <td>18.6</td>\n",
              "      <td>101.0</td>\n",
              "      <td>2.80</td>\n",
              "      <td>3.24</td>\n",
              "      <td>0.30</td>\n",
              "      <td>2.81</td>\n",
              "      <td>5.68</td>\n",
              "      <td>1.03</td>\n",
              "      <td>3.17</td>\n",
              "      <td>1185.0</td>\n",
              "    </tr>\n",
              "    <tr>\n",
              "      <th>3</th>\n",
              "      <td>14.37</td>\n",
              "      <td>1.95</td>\n",
              "      <td>2.50</td>\n",
              "      <td>16.8</td>\n",
              "      <td>113.0</td>\n",
              "      <td>3.85</td>\n",
              "      <td>3.49</td>\n",
              "      <td>0.24</td>\n",
              "      <td>2.18</td>\n",
              "      <td>7.80</td>\n",
              "      <td>0.86</td>\n",
              "      <td>3.45</td>\n",
              "      <td>1480.0</td>\n",
              "    </tr>\n",
              "    <tr>\n",
              "      <th>4</th>\n",
              "      <td>13.24</td>\n",
              "      <td>2.59</td>\n",
              "      <td>2.87</td>\n",
              "      <td>21.0</td>\n",
              "      <td>118.0</td>\n",
              "      <td>2.80</td>\n",
              "      <td>2.69</td>\n",
              "      <td>0.39</td>\n",
              "      <td>1.82</td>\n",
              "      <td>4.32</td>\n",
              "      <td>1.04</td>\n",
              "      <td>2.93</td>\n",
              "      <td>735.0</td>\n",
              "    </tr>\n",
              "  </tbody>\n",
              "</table>\n",
              "</div>\n",
              "      <button class=\"colab-df-convert\" onclick=\"convertToInteractive('df-acbc06fc-a10c-44f2-a39e-8a1373363380')\"\n",
              "              title=\"Convert this dataframe to an interactive table.\"\n",
              "              style=\"display:none;\">\n",
              "        \n",
              "  <svg xmlns=\"http://www.w3.org/2000/svg\" height=\"24px\"viewBox=\"0 0 24 24\"\n",
              "       width=\"24px\">\n",
              "    <path d=\"M0 0h24v24H0V0z\" fill=\"none\"/>\n",
              "    <path d=\"M18.56 5.44l.94 2.06.94-2.06 2.06-.94-2.06-.94-.94-2.06-.94 2.06-2.06.94zm-11 1L8.5 8.5l.94-2.06 2.06-.94-2.06-.94L8.5 2.5l-.94 2.06-2.06.94zm10 10l.94 2.06.94-2.06 2.06-.94-2.06-.94-.94-2.06-.94 2.06-2.06.94z\"/><path d=\"M17.41 7.96l-1.37-1.37c-.4-.4-.92-.59-1.43-.59-.52 0-1.04.2-1.43.59L10.3 9.45l-7.72 7.72c-.78.78-.78 2.05 0 2.83L4 21.41c.39.39.9.59 1.41.59.51 0 1.02-.2 1.41-.59l7.78-7.78 2.81-2.81c.8-.78.8-2.07 0-2.86zM5.41 20L4 18.59l7.72-7.72 1.47 1.35L5.41 20z\"/>\n",
              "  </svg>\n",
              "      </button>\n",
              "      \n",
              "  <style>\n",
              "    .colab-df-container {\n",
              "      display:flex;\n",
              "      flex-wrap:wrap;\n",
              "      gap: 12px;\n",
              "    }\n",
              "\n",
              "    .colab-df-convert {\n",
              "      background-color: #E8F0FE;\n",
              "      border: none;\n",
              "      border-radius: 50%;\n",
              "      cursor: pointer;\n",
              "      display: none;\n",
              "      fill: #1967D2;\n",
              "      height: 32px;\n",
              "      padding: 0 0 0 0;\n",
              "      width: 32px;\n",
              "    }\n",
              "\n",
              "    .colab-df-convert:hover {\n",
              "      background-color: #E2EBFA;\n",
              "      box-shadow: 0px 1px 2px rgba(60, 64, 67, 0.3), 0px 1px 3px 1px rgba(60, 64, 67, 0.15);\n",
              "      fill: #174EA6;\n",
              "    }\n",
              "\n",
              "    [theme=dark] .colab-df-convert {\n",
              "      background-color: #3B4455;\n",
              "      fill: #D2E3FC;\n",
              "    }\n",
              "\n",
              "    [theme=dark] .colab-df-convert:hover {\n",
              "      background-color: #434B5C;\n",
              "      box-shadow: 0px 1px 3px 1px rgba(0, 0, 0, 0.15);\n",
              "      filter: drop-shadow(0px 1px 2px rgba(0, 0, 0, 0.3));\n",
              "      fill: #FFFFFF;\n",
              "    }\n",
              "  </style>\n",
              "\n",
              "      <script>\n",
              "        const buttonEl =\n",
              "          document.querySelector('#df-acbc06fc-a10c-44f2-a39e-8a1373363380 button.colab-df-convert');\n",
              "        buttonEl.style.display =\n",
              "          google.colab.kernel.accessAllowed ? 'block' : 'none';\n",
              "\n",
              "        async function convertToInteractive(key) {\n",
              "          const element = document.querySelector('#df-acbc06fc-a10c-44f2-a39e-8a1373363380');\n",
              "          const dataTable =\n",
              "            await google.colab.kernel.invokeFunction('convertToInteractive',\n",
              "                                                     [key], {});\n",
              "          if (!dataTable) return;\n",
              "\n",
              "          const docLinkHtml = 'Like what you see? Visit the ' +\n",
              "            '<a target=\"_blank\" href=https://colab.research.google.com/notebooks/data_table.ipynb>data table notebook</a>'\n",
              "            + ' to learn more about interactive tables.';\n",
              "          element.innerHTML = '';\n",
              "          dataTable['output_type'] = 'display_data';\n",
              "          await google.colab.output.renderOutput(dataTable, element);\n",
              "          const docLink = document.createElement('div');\n",
              "          docLink.innerHTML = docLinkHtml;\n",
              "          element.appendChild(docLink);\n",
              "        }\n",
              "      </script>\n",
              "    </div>\n",
              "  </div>\n",
              "  "
            ]
          },
          "metadata": {},
          "execution_count": 135
        }
      ]
    },
    {
      "cell_type": "code",
      "source": [
        "# adding the 'target' value to new column named \"label\" to the data frame \n",
        "data_frame['label'] = wine_dataset.target"
      ],
      "metadata": {
        "id": "NgvTvgu09ZxG"
      },
      "execution_count": null,
      "outputs": []
    },
    {
      "cell_type": "code",
      "source": [
        "# print last 5 rows of the dataframe\n",
        "data_frame.tail()"
      ],
      "metadata": {
        "colab": {
          "base_uri": "https://localhost:8080/",
          "height": 270
        },
        "id": "94Pko6xm9iVO",
        "outputId": "90756759-2b84-4925-f93e-ad23349cf40b"
      },
      "execution_count": null,
      "outputs": [
        {
          "output_type": "execute_result",
          "data": {
            "text/plain": [
              "     alcohol  malic_acid   ash  alcalinity_of_ash  magnesium  total_phenols  \\\n",
              "173    13.71        5.65  2.45               20.5       95.0           1.68   \n",
              "174    13.40        3.91  2.48               23.0      102.0           1.80   \n",
              "175    13.27        4.28  2.26               20.0      120.0           1.59   \n",
              "176    13.17        2.59  2.37               20.0      120.0           1.65   \n",
              "177    14.13        4.10  2.74               24.5       96.0           2.05   \n",
              "\n",
              "     flavanoids  nonflavanoid_phenols  proanthocyanins  color_intensity   hue  \\\n",
              "173        0.61                  0.52             1.06              7.7  0.64   \n",
              "174        0.75                  0.43             1.41              7.3  0.70   \n",
              "175        0.69                  0.43             1.35             10.2  0.59   \n",
              "176        0.68                  0.53             1.46              9.3  0.60   \n",
              "177        0.76                  0.56             1.35              9.2  0.61   \n",
              "\n",
              "     od280/od315_of_diluted_wines  proline  label  \n",
              "173                          1.74    740.0      2  \n",
              "174                          1.56    750.0      2  \n",
              "175                          1.56    835.0      2  \n",
              "176                          1.62    840.0      2  \n",
              "177                          1.60    560.0      2  "
            ],
            "text/html": [
              "\n",
              "  <div id=\"df-0bc4bf6d-afcf-4059-9948-fc0cc544e997\">\n",
              "    <div class=\"colab-df-container\">\n",
              "      <div>\n",
              "<style scoped>\n",
              "    .dataframe tbody tr th:only-of-type {\n",
              "        vertical-align: middle;\n",
              "    }\n",
              "\n",
              "    .dataframe tbody tr th {\n",
              "        vertical-align: top;\n",
              "    }\n",
              "\n",
              "    .dataframe thead th {\n",
              "        text-align: right;\n",
              "    }\n",
              "</style>\n",
              "<table border=\"1\" class=\"dataframe\">\n",
              "  <thead>\n",
              "    <tr style=\"text-align: right;\">\n",
              "      <th></th>\n",
              "      <th>alcohol</th>\n",
              "      <th>malic_acid</th>\n",
              "      <th>ash</th>\n",
              "      <th>alcalinity_of_ash</th>\n",
              "      <th>magnesium</th>\n",
              "      <th>total_phenols</th>\n",
              "      <th>flavanoids</th>\n",
              "      <th>nonflavanoid_phenols</th>\n",
              "      <th>proanthocyanins</th>\n",
              "      <th>color_intensity</th>\n",
              "      <th>hue</th>\n",
              "      <th>od280/od315_of_diluted_wines</th>\n",
              "      <th>proline</th>\n",
              "      <th>label</th>\n",
              "    </tr>\n",
              "  </thead>\n",
              "  <tbody>\n",
              "    <tr>\n",
              "      <th>173</th>\n",
              "      <td>13.71</td>\n",
              "      <td>5.65</td>\n",
              "      <td>2.45</td>\n",
              "      <td>20.5</td>\n",
              "      <td>95.0</td>\n",
              "      <td>1.68</td>\n",
              "      <td>0.61</td>\n",
              "      <td>0.52</td>\n",
              "      <td>1.06</td>\n",
              "      <td>7.7</td>\n",
              "      <td>0.64</td>\n",
              "      <td>1.74</td>\n",
              "      <td>740.0</td>\n",
              "      <td>2</td>\n",
              "    </tr>\n",
              "    <tr>\n",
              "      <th>174</th>\n",
              "      <td>13.40</td>\n",
              "      <td>3.91</td>\n",
              "      <td>2.48</td>\n",
              "      <td>23.0</td>\n",
              "      <td>102.0</td>\n",
              "      <td>1.80</td>\n",
              "      <td>0.75</td>\n",
              "      <td>0.43</td>\n",
              "      <td>1.41</td>\n",
              "      <td>7.3</td>\n",
              "      <td>0.70</td>\n",
              "      <td>1.56</td>\n",
              "      <td>750.0</td>\n",
              "      <td>2</td>\n",
              "    </tr>\n",
              "    <tr>\n",
              "      <th>175</th>\n",
              "      <td>13.27</td>\n",
              "      <td>4.28</td>\n",
              "      <td>2.26</td>\n",
              "      <td>20.0</td>\n",
              "      <td>120.0</td>\n",
              "      <td>1.59</td>\n",
              "      <td>0.69</td>\n",
              "      <td>0.43</td>\n",
              "      <td>1.35</td>\n",
              "      <td>10.2</td>\n",
              "      <td>0.59</td>\n",
              "      <td>1.56</td>\n",
              "      <td>835.0</td>\n",
              "      <td>2</td>\n",
              "    </tr>\n",
              "    <tr>\n",
              "      <th>176</th>\n",
              "      <td>13.17</td>\n",
              "      <td>2.59</td>\n",
              "      <td>2.37</td>\n",
              "      <td>20.0</td>\n",
              "      <td>120.0</td>\n",
              "      <td>1.65</td>\n",
              "      <td>0.68</td>\n",
              "      <td>0.53</td>\n",
              "      <td>1.46</td>\n",
              "      <td>9.3</td>\n",
              "      <td>0.60</td>\n",
              "      <td>1.62</td>\n",
              "      <td>840.0</td>\n",
              "      <td>2</td>\n",
              "    </tr>\n",
              "    <tr>\n",
              "      <th>177</th>\n",
              "      <td>14.13</td>\n",
              "      <td>4.10</td>\n",
              "      <td>2.74</td>\n",
              "      <td>24.5</td>\n",
              "      <td>96.0</td>\n",
              "      <td>2.05</td>\n",
              "      <td>0.76</td>\n",
              "      <td>0.56</td>\n",
              "      <td>1.35</td>\n",
              "      <td>9.2</td>\n",
              "      <td>0.61</td>\n",
              "      <td>1.60</td>\n",
              "      <td>560.0</td>\n",
              "      <td>2</td>\n",
              "    </tr>\n",
              "  </tbody>\n",
              "</table>\n",
              "</div>\n",
              "      <button class=\"colab-df-convert\" onclick=\"convertToInteractive('df-0bc4bf6d-afcf-4059-9948-fc0cc544e997')\"\n",
              "              title=\"Convert this dataframe to an interactive table.\"\n",
              "              style=\"display:none;\">\n",
              "        \n",
              "  <svg xmlns=\"http://www.w3.org/2000/svg\" height=\"24px\"viewBox=\"0 0 24 24\"\n",
              "       width=\"24px\">\n",
              "    <path d=\"M0 0h24v24H0V0z\" fill=\"none\"/>\n",
              "    <path d=\"M18.56 5.44l.94 2.06.94-2.06 2.06-.94-2.06-.94-.94-2.06-.94 2.06-2.06.94zm-11 1L8.5 8.5l.94-2.06 2.06-.94-2.06-.94L8.5 2.5l-.94 2.06-2.06.94zm10 10l.94 2.06.94-2.06 2.06-.94-2.06-.94-.94-2.06-.94 2.06-2.06.94z\"/><path d=\"M17.41 7.96l-1.37-1.37c-.4-.4-.92-.59-1.43-.59-.52 0-1.04.2-1.43.59L10.3 9.45l-7.72 7.72c-.78.78-.78 2.05 0 2.83L4 21.41c.39.39.9.59 1.41.59.51 0 1.02-.2 1.41-.59l7.78-7.78 2.81-2.81c.8-.78.8-2.07 0-2.86zM5.41 20L4 18.59l7.72-7.72 1.47 1.35L5.41 20z\"/>\n",
              "  </svg>\n",
              "      </button>\n",
              "      \n",
              "  <style>\n",
              "    .colab-df-container {\n",
              "      display:flex;\n",
              "      flex-wrap:wrap;\n",
              "      gap: 12px;\n",
              "    }\n",
              "\n",
              "    .colab-df-convert {\n",
              "      background-color: #E8F0FE;\n",
              "      border: none;\n",
              "      border-radius: 50%;\n",
              "      cursor: pointer;\n",
              "      display: none;\n",
              "      fill: #1967D2;\n",
              "      height: 32px;\n",
              "      padding: 0 0 0 0;\n",
              "      width: 32px;\n",
              "    }\n",
              "\n",
              "    .colab-df-convert:hover {\n",
              "      background-color: #E2EBFA;\n",
              "      box-shadow: 0px 1px 2px rgba(60, 64, 67, 0.3), 0px 1px 3px 1px rgba(60, 64, 67, 0.15);\n",
              "      fill: #174EA6;\n",
              "    }\n",
              "\n",
              "    [theme=dark] .colab-df-convert {\n",
              "      background-color: #3B4455;\n",
              "      fill: #D2E3FC;\n",
              "    }\n",
              "\n",
              "    [theme=dark] .colab-df-convert:hover {\n",
              "      background-color: #434B5C;\n",
              "      box-shadow: 0px 1px 3px 1px rgba(0, 0, 0, 0.15);\n",
              "      filter: drop-shadow(0px 1px 2px rgba(0, 0, 0, 0.3));\n",
              "      fill: #FFFFFF;\n",
              "    }\n",
              "  </style>\n",
              "\n",
              "      <script>\n",
              "        const buttonEl =\n",
              "          document.querySelector('#df-0bc4bf6d-afcf-4059-9948-fc0cc544e997 button.colab-df-convert');\n",
              "        buttonEl.style.display =\n",
              "          google.colab.kernel.accessAllowed ? 'block' : 'none';\n",
              "\n",
              "        async function convertToInteractive(key) {\n",
              "          const element = document.querySelector('#df-0bc4bf6d-afcf-4059-9948-fc0cc544e997');\n",
              "          const dataTable =\n",
              "            await google.colab.kernel.invokeFunction('convertToInteractive',\n",
              "                                                     [key], {});\n",
              "          if (!dataTable) return;\n",
              "\n",
              "          const docLinkHtml = 'Like what you see? Visit the ' +\n",
              "            '<a target=\"_blank\" href=https://colab.research.google.com/notebooks/data_table.ipynb>data table notebook</a>'\n",
              "            + ' to learn more about interactive tables.';\n",
              "          element.innerHTML = '';\n",
              "          dataTable['output_type'] = 'display_data';\n",
              "          await google.colab.output.renderOutput(dataTable, element);\n",
              "          const docLink = document.createElement('div');\n",
              "          docLink.innerHTML = docLinkHtml;\n",
              "          element.appendChild(docLink);\n",
              "        }\n",
              "      </script>\n",
              "    </div>\n",
              "  </div>\n",
              "  "
            ]
          },
          "metadata": {},
          "execution_count": 137
        }
      ]
    },
    {
      "cell_type": "code",
      "source": [
        "# number of rows and columns in the dataset\n",
        "data_frame.shape"
      ],
      "metadata": {
        "colab": {
          "base_uri": "https://localhost:8080/"
        },
        "id": "LOooiirr9ojG",
        "outputId": "b67fcc5f-2c20-4e26-ff9c-7681c93649ef"
      },
      "execution_count": null,
      "outputs": [
        {
          "output_type": "execute_result",
          "data": {
            "text/plain": [
              "(178, 14)"
            ]
          },
          "metadata": {},
          "execution_count": 138
        }
      ]
    },
    {
      "cell_type": "code",
      "source": [
        "# checking for missing values-->\n",
        "data_frame.isnull().sum()"
      ],
      "metadata": {
        "colab": {
          "base_uri": "https://localhost:8080/"
        },
        "id": "PrxaOEi-9rv9",
        "outputId": "04c00e04-9eb1-43e9-833c-c11653ef0600"
      },
      "execution_count": null,
      "outputs": [
        {
          "output_type": "execute_result",
          "data": {
            "text/plain": [
              "alcohol                         0\n",
              "malic_acid                      0\n",
              "ash                             0\n",
              "alcalinity_of_ash               0\n",
              "magnesium                       0\n",
              "total_phenols                   0\n",
              "flavanoids                      0\n",
              "nonflavanoid_phenols            0\n",
              "proanthocyanins                 0\n",
              "color_intensity                 0\n",
              "hue                             0\n",
              "od280/od315_of_diluted_wines    0\n",
              "proline                         0\n",
              "label                           0\n",
              "dtype: int64"
            ]
          },
          "metadata": {},
          "execution_count": 139
        }
      ]
    },
    {
      "cell_type": "code",
      "source": [
        "# statistical measures about the data\n",
        "data_frame.describe()"
      ],
      "metadata": {
        "colab": {
          "base_uri": "https://localhost:8080/",
          "height": 364
        },
        "id": "-BihIg0J9yZW",
        "outputId": "d596562e-3e04-40eb-b4e5-aa215e4896d6"
      },
      "execution_count": null,
      "outputs": [
        {
          "output_type": "execute_result",
          "data": {
            "text/plain": [
              "          alcohol  malic_acid         ash  alcalinity_of_ash   magnesium  \\\n",
              "count  178.000000  178.000000  178.000000         178.000000  178.000000   \n",
              "mean    13.000618    2.336348    2.366517          19.494944   99.741573   \n",
              "std      0.811827    1.117146    0.274344           3.339564   14.282484   \n",
              "min     11.030000    0.740000    1.360000          10.600000   70.000000   \n",
              "25%     12.362500    1.602500    2.210000          17.200000   88.000000   \n",
              "50%     13.050000    1.865000    2.360000          19.500000   98.000000   \n",
              "75%     13.677500    3.082500    2.557500          21.500000  107.000000   \n",
              "max     14.830000    5.800000    3.230000          30.000000  162.000000   \n",
              "\n",
              "       total_phenols  flavanoids  nonflavanoid_phenols  proanthocyanins  \\\n",
              "count     178.000000  178.000000            178.000000       178.000000   \n",
              "mean        2.295112    2.029270              0.361854         1.590899   \n",
              "std         0.625851    0.998859              0.124453         0.572359   \n",
              "min         0.980000    0.340000              0.130000         0.410000   \n",
              "25%         1.742500    1.205000              0.270000         1.250000   \n",
              "50%         2.355000    2.135000              0.340000         1.555000   \n",
              "75%         2.800000    2.875000              0.437500         1.950000   \n",
              "max         3.880000    5.080000              0.660000         3.580000   \n",
              "\n",
              "       color_intensity         hue  od280/od315_of_diluted_wines      proline  \\\n",
              "count       178.000000  178.000000                    178.000000   178.000000   \n",
              "mean          5.058090    0.957449                      2.611685   746.893258   \n",
              "std           2.318286    0.228572                      0.709990   314.907474   \n",
              "min           1.280000    0.480000                      1.270000   278.000000   \n",
              "25%           3.220000    0.782500                      1.937500   500.500000   \n",
              "50%           4.690000    0.965000                      2.780000   673.500000   \n",
              "75%           6.200000    1.120000                      3.170000   985.000000   \n",
              "max          13.000000    1.710000                      4.000000  1680.000000   \n",
              "\n",
              "            label  \n",
              "count  178.000000  \n",
              "mean     0.938202  \n",
              "std      0.775035  \n",
              "min      0.000000  \n",
              "25%      0.000000  \n",
              "50%      1.000000  \n",
              "75%      2.000000  \n",
              "max      2.000000  "
            ],
            "text/html": [
              "\n",
              "  <div id=\"df-fde15aa1-037d-4006-9c3e-5d89cfe3f280\">\n",
              "    <div class=\"colab-df-container\">\n",
              "      <div>\n",
              "<style scoped>\n",
              "    .dataframe tbody tr th:only-of-type {\n",
              "        vertical-align: middle;\n",
              "    }\n",
              "\n",
              "    .dataframe tbody tr th {\n",
              "        vertical-align: top;\n",
              "    }\n",
              "\n",
              "    .dataframe thead th {\n",
              "        text-align: right;\n",
              "    }\n",
              "</style>\n",
              "<table border=\"1\" class=\"dataframe\">\n",
              "  <thead>\n",
              "    <tr style=\"text-align: right;\">\n",
              "      <th></th>\n",
              "      <th>alcohol</th>\n",
              "      <th>malic_acid</th>\n",
              "      <th>ash</th>\n",
              "      <th>alcalinity_of_ash</th>\n",
              "      <th>magnesium</th>\n",
              "      <th>total_phenols</th>\n",
              "      <th>flavanoids</th>\n",
              "      <th>nonflavanoid_phenols</th>\n",
              "      <th>proanthocyanins</th>\n",
              "      <th>color_intensity</th>\n",
              "      <th>hue</th>\n",
              "      <th>od280/od315_of_diluted_wines</th>\n",
              "      <th>proline</th>\n",
              "      <th>label</th>\n",
              "    </tr>\n",
              "  </thead>\n",
              "  <tbody>\n",
              "    <tr>\n",
              "      <th>count</th>\n",
              "      <td>178.000000</td>\n",
              "      <td>178.000000</td>\n",
              "      <td>178.000000</td>\n",
              "      <td>178.000000</td>\n",
              "      <td>178.000000</td>\n",
              "      <td>178.000000</td>\n",
              "      <td>178.000000</td>\n",
              "      <td>178.000000</td>\n",
              "      <td>178.000000</td>\n",
              "      <td>178.000000</td>\n",
              "      <td>178.000000</td>\n",
              "      <td>178.000000</td>\n",
              "      <td>178.000000</td>\n",
              "      <td>178.000000</td>\n",
              "    </tr>\n",
              "    <tr>\n",
              "      <th>mean</th>\n",
              "      <td>13.000618</td>\n",
              "      <td>2.336348</td>\n",
              "      <td>2.366517</td>\n",
              "      <td>19.494944</td>\n",
              "      <td>99.741573</td>\n",
              "      <td>2.295112</td>\n",
              "      <td>2.029270</td>\n",
              "      <td>0.361854</td>\n",
              "      <td>1.590899</td>\n",
              "      <td>5.058090</td>\n",
              "      <td>0.957449</td>\n",
              "      <td>2.611685</td>\n",
              "      <td>746.893258</td>\n",
              "      <td>0.938202</td>\n",
              "    </tr>\n",
              "    <tr>\n",
              "      <th>std</th>\n",
              "      <td>0.811827</td>\n",
              "      <td>1.117146</td>\n",
              "      <td>0.274344</td>\n",
              "      <td>3.339564</td>\n",
              "      <td>14.282484</td>\n",
              "      <td>0.625851</td>\n",
              "      <td>0.998859</td>\n",
              "      <td>0.124453</td>\n",
              "      <td>0.572359</td>\n",
              "      <td>2.318286</td>\n",
              "      <td>0.228572</td>\n",
              "      <td>0.709990</td>\n",
              "      <td>314.907474</td>\n",
              "      <td>0.775035</td>\n",
              "    </tr>\n",
              "    <tr>\n",
              "      <th>min</th>\n",
              "      <td>11.030000</td>\n",
              "      <td>0.740000</td>\n",
              "      <td>1.360000</td>\n",
              "      <td>10.600000</td>\n",
              "      <td>70.000000</td>\n",
              "      <td>0.980000</td>\n",
              "      <td>0.340000</td>\n",
              "      <td>0.130000</td>\n",
              "      <td>0.410000</td>\n",
              "      <td>1.280000</td>\n",
              "      <td>0.480000</td>\n",
              "      <td>1.270000</td>\n",
              "      <td>278.000000</td>\n",
              "      <td>0.000000</td>\n",
              "    </tr>\n",
              "    <tr>\n",
              "      <th>25%</th>\n",
              "      <td>12.362500</td>\n",
              "      <td>1.602500</td>\n",
              "      <td>2.210000</td>\n",
              "      <td>17.200000</td>\n",
              "      <td>88.000000</td>\n",
              "      <td>1.742500</td>\n",
              "      <td>1.205000</td>\n",
              "      <td>0.270000</td>\n",
              "      <td>1.250000</td>\n",
              "      <td>3.220000</td>\n",
              "      <td>0.782500</td>\n",
              "      <td>1.937500</td>\n",
              "      <td>500.500000</td>\n",
              "      <td>0.000000</td>\n",
              "    </tr>\n",
              "    <tr>\n",
              "      <th>50%</th>\n",
              "      <td>13.050000</td>\n",
              "      <td>1.865000</td>\n",
              "      <td>2.360000</td>\n",
              "      <td>19.500000</td>\n",
              "      <td>98.000000</td>\n",
              "      <td>2.355000</td>\n",
              "      <td>2.135000</td>\n",
              "      <td>0.340000</td>\n",
              "      <td>1.555000</td>\n",
              "      <td>4.690000</td>\n",
              "      <td>0.965000</td>\n",
              "      <td>2.780000</td>\n",
              "      <td>673.500000</td>\n",
              "      <td>1.000000</td>\n",
              "    </tr>\n",
              "    <tr>\n",
              "      <th>75%</th>\n",
              "      <td>13.677500</td>\n",
              "      <td>3.082500</td>\n",
              "      <td>2.557500</td>\n",
              "      <td>21.500000</td>\n",
              "      <td>107.000000</td>\n",
              "      <td>2.800000</td>\n",
              "      <td>2.875000</td>\n",
              "      <td>0.437500</td>\n",
              "      <td>1.950000</td>\n",
              "      <td>6.200000</td>\n",
              "      <td>1.120000</td>\n",
              "      <td>3.170000</td>\n",
              "      <td>985.000000</td>\n",
              "      <td>2.000000</td>\n",
              "    </tr>\n",
              "    <tr>\n",
              "      <th>max</th>\n",
              "      <td>14.830000</td>\n",
              "      <td>5.800000</td>\n",
              "      <td>3.230000</td>\n",
              "      <td>30.000000</td>\n",
              "      <td>162.000000</td>\n",
              "      <td>3.880000</td>\n",
              "      <td>5.080000</td>\n",
              "      <td>0.660000</td>\n",
              "      <td>3.580000</td>\n",
              "      <td>13.000000</td>\n",
              "      <td>1.710000</td>\n",
              "      <td>4.000000</td>\n",
              "      <td>1680.000000</td>\n",
              "      <td>2.000000</td>\n",
              "    </tr>\n",
              "  </tbody>\n",
              "</table>\n",
              "</div>\n",
              "      <button class=\"colab-df-convert\" onclick=\"convertToInteractive('df-fde15aa1-037d-4006-9c3e-5d89cfe3f280')\"\n",
              "              title=\"Convert this dataframe to an interactive table.\"\n",
              "              style=\"display:none;\">\n",
              "        \n",
              "  <svg xmlns=\"http://www.w3.org/2000/svg\" height=\"24px\"viewBox=\"0 0 24 24\"\n",
              "       width=\"24px\">\n",
              "    <path d=\"M0 0h24v24H0V0z\" fill=\"none\"/>\n",
              "    <path d=\"M18.56 5.44l.94 2.06.94-2.06 2.06-.94-2.06-.94-.94-2.06-.94 2.06-2.06.94zm-11 1L8.5 8.5l.94-2.06 2.06-.94-2.06-.94L8.5 2.5l-.94 2.06-2.06.94zm10 10l.94 2.06.94-2.06 2.06-.94-2.06-.94-.94-2.06-.94 2.06-2.06.94z\"/><path d=\"M17.41 7.96l-1.37-1.37c-.4-.4-.92-.59-1.43-.59-.52 0-1.04.2-1.43.59L10.3 9.45l-7.72 7.72c-.78.78-.78 2.05 0 2.83L4 21.41c.39.39.9.59 1.41.59.51 0 1.02-.2 1.41-.59l7.78-7.78 2.81-2.81c.8-.78.8-2.07 0-2.86zM5.41 20L4 18.59l7.72-7.72 1.47 1.35L5.41 20z\"/>\n",
              "  </svg>\n",
              "      </button>\n",
              "      \n",
              "  <style>\n",
              "    .colab-df-container {\n",
              "      display:flex;\n",
              "      flex-wrap:wrap;\n",
              "      gap: 12px;\n",
              "    }\n",
              "\n",
              "    .colab-df-convert {\n",
              "      background-color: #E8F0FE;\n",
              "      border: none;\n",
              "      border-radius: 50%;\n",
              "      cursor: pointer;\n",
              "      display: none;\n",
              "      fill: #1967D2;\n",
              "      height: 32px;\n",
              "      padding: 0 0 0 0;\n",
              "      width: 32px;\n",
              "    }\n",
              "\n",
              "    .colab-df-convert:hover {\n",
              "      background-color: #E2EBFA;\n",
              "      box-shadow: 0px 1px 2px rgba(60, 64, 67, 0.3), 0px 1px 3px 1px rgba(60, 64, 67, 0.15);\n",
              "      fill: #174EA6;\n",
              "    }\n",
              "\n",
              "    [theme=dark] .colab-df-convert {\n",
              "      background-color: #3B4455;\n",
              "      fill: #D2E3FC;\n",
              "    }\n",
              "\n",
              "    [theme=dark] .colab-df-convert:hover {\n",
              "      background-color: #434B5C;\n",
              "      box-shadow: 0px 1px 3px 1px rgba(0, 0, 0, 0.15);\n",
              "      filter: drop-shadow(0px 1px 2px rgba(0, 0, 0, 0.3));\n",
              "      fill: #FFFFFF;\n",
              "    }\n",
              "  </style>\n",
              "\n",
              "      <script>\n",
              "        const buttonEl =\n",
              "          document.querySelector('#df-fde15aa1-037d-4006-9c3e-5d89cfe3f280 button.colab-df-convert');\n",
              "        buttonEl.style.display =\n",
              "          google.colab.kernel.accessAllowed ? 'block' : 'none';\n",
              "\n",
              "        async function convertToInteractive(key) {\n",
              "          const element = document.querySelector('#df-fde15aa1-037d-4006-9c3e-5d89cfe3f280');\n",
              "          const dataTable =\n",
              "            await google.colab.kernel.invokeFunction('convertToInteractive',\n",
              "                                                     [key], {});\n",
              "          if (!dataTable) return;\n",
              "\n",
              "          const docLinkHtml = 'Like what you see? Visit the ' +\n",
              "            '<a target=\"_blank\" href=https://colab.research.google.com/notebooks/data_table.ipynb>data table notebook</a>'\n",
              "            + ' to learn more about interactive tables.';\n",
              "          element.innerHTML = '';\n",
              "          dataTable['output_type'] = 'display_data';\n",
              "          await google.colab.output.renderOutput(dataTable, element);\n",
              "          const docLink = document.createElement('div');\n",
              "          docLink.innerHTML = docLinkHtml;\n",
              "          element.appendChild(docLink);\n",
              "        }\n",
              "      </script>\n",
              "    </div>\n",
              "  </div>\n",
              "  "
            ]
          },
          "metadata": {},
          "execution_count": 140
        }
      ]
    },
    {
      "cell_type": "code",
      "source": [
        "# checking the distribution of Target Varibale\n",
        "#imbalance-> training model becomes unsuccessful-->  should process-->  upsampling and downsampling\n",
        "data_frame['label'].value_counts()"
      ],
      "metadata": {
        "colab": {
          "base_uri": "https://localhost:8080/"
        },
        "id": "vtXHBrmV98f9",
        "outputId": "24b9d244-13b5-4a08-cd20-8b1b24aaaae5"
      },
      "execution_count": null,
      "outputs": [
        {
          "output_type": "execute_result",
          "data": {
            "text/plain": [
              "1    71\n",
              "0    59\n",
              "2    48\n",
              "Name: label, dtype: int64"
            ]
          },
          "metadata": {},
          "execution_count": 141
        }
      ]
    },
    {
      "cell_type": "markdown",
      "source": [
        "Separating the features/input and target/output"
      ],
      "metadata": {
        "id": "RhPlIiHD_T21"
      }
    },
    {
      "cell_type": "code",
      "source": [
        "X = data_frame.drop(columns='label', axis=1)     # axis=1, axis=0 \n",
        "Y = data_frame['label']"
      ],
      "metadata": {
        "id": "hrspYYfA_VId"
      },
      "execution_count": null,
      "outputs": []
    },
    {
      "cell_type": "markdown",
      "source": [
        "Splitting the data into training data & Testing data"
      ],
      "metadata": {
        "id": "w1il-_rR_hsj"
      }
    },
    {
      "cell_type": "code",
      "source": [
        "X_train, X_test, Y_train, Y_test = train_test_split(X, Y, test_size=0.2, random_state=2)    #random state--> data is splitted in same way "
      ],
      "metadata": {
        "id": "HDmH5gzT_XB8"
      },
      "execution_count": null,
      "outputs": []
    },
    {
      "cell_type": "code",
      "source": [
        "print(X.shape, X_train.shape, X_test.shape)    #data points splitting"
      ],
      "metadata": {
        "colab": {
          "base_uri": "https://localhost:8080/"
        },
        "id": "e5Ozvyem_qPL",
        "outputId": "ea0287c7-608c-48c5-a9e1-b56894b70646"
      },
      "execution_count": null,
      "outputs": [
        {
          "output_type": "stream",
          "name": "stdout",
          "text": [
            "(178, 13) (142, 13) (36, 13)\n"
          ]
        }
      ]
    },
    {
      "cell_type": "markdown",
      "source": [
        "Standardize the data"
      ],
      "metadata": {
        "id": "gvqiEqrJ_u9T"
      }
    },
    {
      "cell_type": "code",
      "source": [
        "from sklearn.preprocessing import StandardScaler"
      ],
      "metadata": {
        "id": "HrhxjR1C_v0c"
      },
      "execution_count": null,
      "outputs": []
    },
    {
      "cell_type": "code",
      "source": [
        "scaler = StandardScaler()\n",
        "\n",
        "X_train_std = scaler.fit_transform(X_train)\n",
        "\n",
        "X_test_std = scaler.transform(X_test)"
      ],
      "metadata": {
        "id": "jS4wn_lF_0U5"
      },
      "execution_count": null,
      "outputs": []
    },
    {
      "cell_type": "markdown",
      "source": [
        "**Building the Neural Network**"
      ],
      "metadata": {
        "id": "0th5MEEz_41R"
      }
    },
    {
      "cell_type": "markdown",
      "source": [
        "1- input layer-single\n",
        "\n",
        "2- hidden layer-single/multiple\n",
        "\n",
        "3- output layer-single"
      ],
      "metadata": {
        "id": "6SsGG2Sgf6NU"
      }
    },
    {
      "cell_type": "code",
      "source": [
        "# importing tensorflow and Keras\n",
        "\n",
        "import tensorflow as tf         #deep learning library developed by Google.easily neural etworks can be developed by libraries in it\n",
        "tf.random.set_seed(3)           #set_seed-->initialize several parametres and weights in training  neural network    ->output same accuracy \n",
        "from tensorflow import keras    #wrapper of tensorflow"
      ],
      "metadata": {
        "id": "FXD6tFBF_7Bx"
      },
      "execution_count": null,
      "outputs": []
    },
    {
      "cell_type": "code",
      "source": [
        "# setting up the layers of Neural Network--->using Sequetial() function\n",
        "\n",
        "model = keras.Sequential([\n",
        "                          keras.layers.Flatten(input_shape=(13,)),    # Flatte() convert data in matrice format to one single dimensional array, NO of neurones=NO of features\n",
        "                          keras.layers.Dense(20, activation='relu'),  #hidden layer  #how to add more layers?\n",
        "                          keras.layers.Dense(3, activation='sigmoid')    #output layer #speific neuron will fire for each target value\n",
        "])"
      ],
      "metadata": {
        "id": "pzcvR1mXAHsA"
      },
      "execution_count": null,
      "outputs": []
    },
    {
      "cell_type": "code",
      "source": [
        "# compiling the Neural Network\n",
        "\n",
        "model.compile(optimizer='adam',\n",
        "              loss='sparse_categorical_crossentropy',     #crossentropy loss between the labels and predictions  # categorical_crossentropy for encoding labels\n",
        "              metrics=['accuracy'])                       #function that is used to judge the performance of model"
      ],
      "metadata": {
        "id": "OXabEB-fAPlg"
      },
      "execution_count": null,
      "outputs": []
    },
    {
      "cell_type": "code",
      "source": [
        "# training the Meural Network\n",
        "#epochs= how many times model has to go through data\n",
        "#validation_split-->10% of data, epochs\n",
        "#history variable--> plot loss value and accuracy while training\n",
        "history = model.fit(X_train_std, Y_train, validation_split=0.1, epochs=10)"
      ],
      "metadata": {
        "colab": {
          "base_uri": "https://localhost:8080/"
        },
        "id": "n16ydEnAARUH",
        "outputId": "80d023a3-8408-4ce6-ed6e-d09eaeee1f33"
      },
      "execution_count": null,
      "outputs": [
        {
          "output_type": "stream",
          "name": "stdout",
          "text": [
            "Epoch 1/10\n",
            "4/4 [==============================] - 0s 26ms/step - loss: 0.5228 - accuracy: 0.9213 - val_loss: 0.5521 - val_accuracy: 0.8667\n",
            "Epoch 2/10\n",
            "4/4 [==============================] - 0s 17ms/step - loss: 0.5021 - accuracy: 0.9213 - val_loss: 0.5350 - val_accuracy: 0.8667\n",
            "Epoch 3/10\n",
            "4/4 [==============================] - 0s 10ms/step - loss: 0.4826 - accuracy: 0.9370 - val_loss: 0.5184 - val_accuracy: 0.8667\n",
            "Epoch 4/10\n",
            "4/4 [==============================] - 0s 11ms/step - loss: 0.4641 - accuracy: 0.9370 - val_loss: 0.5027 - val_accuracy: 0.8667\n",
            "Epoch 5/10\n",
            "4/4 [==============================] - 0s 10ms/step - loss: 0.4467 - accuracy: 0.9370 - val_loss: 0.4878 - val_accuracy: 0.8667\n",
            "Epoch 6/10\n",
            "4/4 [==============================] - 0s 9ms/step - loss: 0.4303 - accuracy: 0.9370 - val_loss: 0.4739 - val_accuracy: 0.8667\n",
            "Epoch 7/10\n",
            "4/4 [==============================] - 0s 11ms/step - loss: 0.4144 - accuracy: 0.9370 - val_loss: 0.4605 - val_accuracy: 0.8667\n",
            "Epoch 8/10\n",
            "4/4 [==============================] - 0s 10ms/step - loss: 0.3992 - accuracy: 0.9449 - val_loss: 0.4482 - val_accuracy: 0.8667\n",
            "Epoch 9/10\n",
            "4/4 [==============================] - 0s 10ms/step - loss: 0.3852 - accuracy: 0.9449 - val_loss: 0.4361 - val_accuracy: 0.8667\n",
            "Epoch 10/10\n",
            "4/4 [==============================] - 0s 10ms/step - loss: 0.3711 - accuracy: 0.9528 - val_loss: 0.4248 - val_accuracy: 0.8667\n"
          ]
        }
      ]
    },
    {
      "cell_type": "markdown",
      "source": [
        "Visualizing accuracy and loss"
      ],
      "metadata": {
        "id": "7wd_mVUYAXR4"
      }
    },
    {
      "cell_type": "code",
      "source": [
        "plt.plot(history.history['accuracy'])\n",
        "plt.plot(history.history['val_accuracy'])\n",
        "\n",
        "plt.title('model accuracy')\n",
        "plt.ylabel('accuracy')\n",
        "plt.xlabel('epoch')\n",
        "\n",
        "plt.legend(['training data', 'validation data'], loc = 'lower right') #legend is an area describing the elements of the graph     #loc-->location"
      ],
      "metadata": {
        "colab": {
          "base_uri": "https://localhost:8080/",
          "height": 312
        },
        "id": "TRdwgg9DAadH",
        "outputId": "cc18079e-c3c4-4bca-d5bc-06795fa110d0"
      },
      "execution_count": null,
      "outputs": [
        {
          "output_type": "execute_result",
          "data": {
            "text/plain": [
              "<matplotlib.legend.Legend at 0x7f7db292cbe0>"
            ]
          },
          "metadata": {},
          "execution_count": 162
        },
        {
          "output_type": "display_data",
          "data": {
            "text/plain": [
              "<Figure size 432x288 with 1 Axes>"
            ],
            "image/png": "[encoded data removed]"
          },
          "metadata": {
            "needs_background": "light"
          }
        }
      ]
    },
    {
      "cell_type": "code",
      "source": [
        "plt.plot(history.history['loss'])\n",
        "plt.plot(history.history['val_loss'])\n",
        "\n",
        "plt.title('model loss')\n",
        "plt.ylabel('loss')\n",
        "plt.xlabel('epoch')\n",
        "\n",
        "plt.legend(['training data', 'validation data'], loc = 'upper right')"
      ],
      "metadata": {
        "colab": {
          "base_uri": "https://localhost:8080/",
          "height": 312
        },
        "id": "QxuCHdHlAfjv",
        "outputId": "a49bd9d6-6912-4536-84eb-026e94762750"
      },
      "execution_count": null,
      "outputs": [
        {
          "output_type": "execute_result",
          "data": {
            "text/plain": [
              "<matplotlib.legend.Legend at 0x7f7db28f76d0>"
            ]
          },
          "metadata": {},
          "execution_count": 163
        },
        {
          "output_type": "display_data",
          "data": {
            "text/plain": [
              "<Figure size 432x288 with 1 Axes>"
            ],
            "image/png": "[encoded data removed]"
          },
          "metadata": {
            "needs_background": "light"
          }
        }
      ]
    },
    {
      "cell_type": "markdown",
      "source": [
        "Accuracy of the model on test data"
      ],
      "metadata": {
        "id": "GzTSTotTAi4X"
      }
    },
    {
      "cell_type": "code",
      "source": [
        "loss, accuracy = model.evaluate(X_test_std, Y_test)\n",
        "print(accuracy)"
      ],
      "metadata": {
        "colab": {
          "base_uri": "https://localhost:8080/"
        },
        "id": "5G6Y7s5NAjiH",
        "outputId": "24087f3d-a2f0-460d-e767-a9c78c63fd71"
      },
      "execution_count": null,
      "outputs": [
        {
          "output_type": "stream",
          "name": "stdout",
          "text": [
            "2/2 [==============================] - 0s 8ms/step - loss: 0.8880 - accuracy: 0.6389\n",
            "0.6388888955116272\n"
          ]
        }
      ]
    },
    {
      "cell_type": "code",
      "source": [
        "print(X_test_std.shape)\n",
        "print(X_test_std[0])"
      ],
      "metadata": {
        "colab": {
          "base_uri": "https://localhost:8080/"
        },
        "id": "sfWmQi7hAoH-",
        "outputId": "fe96d281-bcf7-4b2e-b2b3-3aa85f0592f7"
      },
      "execution_count": null,
      "outputs": [
        {
          "output_type": "stream",
          "name": "stdout",
          "text": [
            "(36, 13)\n",
            "[ 1.00730177 -0.54007555  0.2537165  -1.08527518 -0.67815257  0.52808936\n",
            "  0.76742208 -0.60583539  0.43132337  0.31974667  0.85736949  0.44428727\n",
            "  1.95192837]\n"
          ]
        }
      ]
    },
    {
      "cell_type": "code",
      "source": [
        "Y_pred = model.predict(X_test_std)"
      ],
      "metadata": {
        "colab": {
          "base_uri": "https://localhost:8080/"
        },
        "id": "qI8I6vGTApw-",
        "outputId": "91d94a73-70a6-4dd9-e7b8-c9145983831e"
      },
      "execution_count": null,
      "outputs": [
        {
          "output_type": "stream",
          "name": "stdout",
          "text": [
            "2/2 [==============================] - 0s 6ms/step\n"
          ]
        }
      ]
    },
    {
      "cell_type": "code",
      "source": [
        "#3 values-->propbability that value is 0,1,2\n",
        "print(Y_pred.shape)\n",
        "print(Y_pred[0])"
      ],
      "metadata": {
        "colab": {
          "base_uri": "https://localhost:8080/"
        },
        "id": "v3NzG80dAvmH",
        "outputId": "608257c6-8bbe-4e54-e9d2-eb44eb0b3c38"
      },
      "execution_count": null,
      "outputs": [
        {
          "output_type": "stream",
          "name": "stdout",
          "text": [
            "(36, 3)\n",
            "[0.68219465 0.56377333 0.5829831 ]\n"
          ]
        }
      ]
    },
    {
      "cell_type": "code",
      "source": [
        "print(X_test_std)"
      ],
      "metadata": {
        "colab": {
          "base_uri": "https://localhost:8080/"
        },
        "id": "1vPKS6zSAx0n",
        "outputId": "8aa94635-8919-4c86-cad0-73c4de8a8373"
      },
      "execution_count": null,
      "outputs": [
        {
          "output_type": "stream",
          "name": "stdout",
          "text": [
            "[[ 1.00730177e+00 -5.40075548e-01  2.53716500e-01 -1.08527518e+00\n",
            "  -6.78152571e-01  5.28089358e-01  7.67422081e-01 -6.05835389e-01\n",
            "   4.31323369e-01  3.19746673e-01  8.57369494e-01  4.44287274e-01\n",
            "   1.95192837e+00]\n",
            " [-1.30117970e-01 -6.52120891e-01  6.52815366e-01 -5.42849809e-01\n",
            "  -2.70687134e-01  3.36954212e-01  3.86428492e-01 -8.46587139e-01\n",
            "  -1.78022039e-01 -4.41698658e-01  5.94171826e-01  1.50423707e+00\n",
            "   9.52743694e-01]\n",
            " [ 6.28161856e-01  1.15784234e+00  9.43069086e-01  1.02415683e+00\n",
            "   8.15887367e-01 -9.05424235e-01 -1.03008613e+00  5.17672777e-01\n",
            "  -1.78022039e-01  2.63599954e+00 -4.58618848e-01 -1.50137400e+00\n",
            "  -9.55812075e-02]\n",
            " [ 1.22641972e-01 -2.64271627e-01  3.19253542e+00  1.62685169e+00\n",
            "   1.69872915e+00  5.75873144e-01  6.89269550e-01  8.38675110e-01\n",
            "   6.22831926e-01 -6.01283009e-01  7.69636938e-01  8.79883082e-01\n",
            "   3.46680861e-01]\n",
            " [ 6.66075847e-01 -4.71124568e-01  2.53716500e-01  2.70788255e-01\n",
            "   6.88673979e-02  6.87368646e-01  9.82341542e-01 -8.46587139e-01\n",
            "   5.18372713e-01  9.17690291e-02  3.74840435e-01  1.27191931e+00\n",
            "   6.41522239e-01]\n",
            " [ 2.27110148e+00 -5.40075548e-01  1.81153070e-01 -2.47147337e+00\n",
            "  -5.42330759e-01  1.32448580e+00  1.67594525e+00  5.17672777e-01\n",
            "   2.17231025e+00  2.28555616e-01  1.29603227e+00  1.97449649e-01\n",
            "   1.39500576e+00]\n",
            " [-7.36741831e-01 -9.88256920e-01  7.97942226e-01 -4.52445579e-01\n",
            "  -6.69544147e-02  2.41386639e-01  6.59962351e-01  3.61692770e-02\n",
            "   9.01389826e-01 -1.36208615e-01  1.03283461e+00 -4.26904343e-01\n",
            "  -1.51273468e-01]\n",
            " [-2.31221947e-01  2.87700393e-02 -2.17945795e-01 -3.05591761e-02\n",
            "  -8.81885290e-01 -1.39919003e+00 -1.43061786e+00  9.18925693e-01\n",
            "  -1.60563128e+00  2.28035396e+00 -1.68687463e+00 -1.39973498e+00\n",
            "  -8.32684654e-01]\n",
            " [-1.50765965e+00  2.78717343e-01  2.10408397e+00  1.20114539e-01\n",
            "   2.72600117e-01 -8.25784591e-01  5.42802351e-02  1.88193269e+00\n",
            "  -8.91826659e-01 -5.00972845e-01  1.20829972e+00 -1.36507137e-01\n",
            "  -3.83870556e-01]\n",
            " [ 1.44963167e+00 -2.90128244e-01  2.17434785e-01 -2.41502378e-01\n",
            "   2.72600117e-01  7.67008290e-01  9.23727143e-01 -3.65083639e-01\n",
            "   1.42368589e+00  5.93319846e-01  5.06439270e-01  2.26489370e-01\n",
            "   1.10016438e+00]\n",
            " [-7.87293819e-01 -1.17787212e+00 -1.41524239e+00 -1.44689210e+00\n",
            "   2.51366003e+00 -5.86865659e-01 -1.21562960e-01 -1.24331890e-01\n",
            "   2.08526090e+00 -6.83354961e-01  4.62572991e-01 -4.12384482e-01\n",
            "   8.45996350e-02]\n",
            " [ 1.79085759e+00 -3.50460352e-01  5.80251936e-01 -8.44197239e-01\n",
            "   9.51709180e-01  2.51908046e+00  1.48056393e+00 -1.00708831e+00\n",
            "   1.07548851e+00  1.32284831e+00 -4.14752570e-01  1.24287959e+00\n",
            "   2.47609082e+00]\n",
            " [ 1.81613358e+00 -4.19411332e-01  3.98843360e-01 -1.50716159e+00\n",
            "  -2.02776227e-01  3.68810070e-01  5.32964488e-01 -5.25584806e-01\n",
            "   7.27291138e-01  1.60162322e-01  2.87107879e-01  1.43163777e+00\n",
            "   1.85364791e+00]\n",
            " [ 1.75294360e+00 -5.83169911e-01  1.30588624e+00  1.62685169e+00\n",
            "  -6.69544147e-02  8.46647934e-01 -6.49092545e-01  1.32017861e+00\n",
            "   1.98080169e+00  3.69381580e+00 -1.68687463e+00 -9.20579592e-01\n",
            "  -2.10241744e-01]\n",
            " [ 1.60555963e-01  1.33021979e+00  7.23079250e-02  5.72135686e-01\n",
            "   9.51709180e-01 -1.36733417e+00 -5.70940014e-01 -2.04582473e-01\n",
            "  -7.35137840e-01  2.05237677e+00 -1.68687463e+00 -1.83533079e+00\n",
            "  -5.70603429e-01]\n",
            " [-6.73551845e-01  1.78702004e+00  1.41473138e+00  2.07887284e+00\n",
            "   2.04689211e-01 -1.09027794e-01  1.51970899e-01  5.17672777e-01\n",
            "   2.57224681e-01 -1.28521594e+00 -1.51554902e-01  7.63724200e-01\n",
            "  -1.17666626e+00]\n",
            " [ 1.17159573e+00 -4.02173587e-01  9.06787371e-01 -1.38662261e+00\n",
            "   1.36778304e-01  1.56340473e+00  1.54894739e+00 -1.56884239e+00\n",
            "   2.39814812e-01  2.42234274e-01 -3.27020014e-01  1.40259805e+00\n",
            "   1.21482492e+00]\n",
            " [ 2.61659940e-01  2.91342170e-03  1.19704109e+00 -3.01771864e-01\n",
            "   1.36778304e-01  8.46647934e-01  1.23633727e+00 -5.25584806e-01\n",
            "   2.17231025e+00  3.56223096e-01  3.30974157e-01  8.36323502e-01\n",
            "   1.50966630e+00]\n",
            " [ 1.34852769e+00 -5.83169911e-01 -4.71917800e-01 -1.08527518e+00\n",
            "  -2.02776227e-01  6.07729002e-01  3.47352227e-01 -8.46587139e-01\n",
            "   7.27291138e-01 -9.06130861e-02  3.74840435e-01  1.44615763e+00\n",
            "   1.01826400e+00]\n",
            " [-6.35637854e-01  5.80377881e-01  1.08819595e+00  2.22954656e+00\n",
            "  -1.34865321e-01 -5.86865659e-01 -1.36223439e+00  2.12268444e+00\n",
            "  -7.35137840e-01  1.18606172e+00 -1.24821185e+00 -1.25453638e+00\n",
            "   5.10481626e-01]\n",
            " [-1.17479973e-01 -8.67592704e-01 -7.28189351e-02 -4.82580322e-01\n",
            "   1.56290734e+00 -1.20805488e+00 -7.07706943e-01 -1.24784006e+00\n",
            "  -1.08333522e+00 -3.64186259e-01 -8.53415351e-01 -1.89341023e+00\n",
            "  -3.08522203e-01]\n",
            " [ 1.58864964e+00  1.45088401e+00  3.62561645e-01 -2.11367635e-01\n",
            "   8.15887367e-01  9.26287578e-01  6.59962351e-01 -5.25584806e-01\n",
            "  -5.43629283e-01  1.55602769e-01 -3.70886292e-01  1.06864127e+00\n",
            "   1.16568469e+00]\n",
            " [-8.88397796e-01 -5.40075548e-01 -7.98453236e-01 -1.81232892e-01\n",
            "  -1.28935073e+00 -9.85063879e-01  5.42802351e-02  3.61692770e-02\n",
            "   1.17945731e-01 -6.83354961e-01  1.99375323e-01  8.36323502e-01\n",
            "  -7.01644041e-01]\n",
            " [-1.68459161e+00 -3.15984862e-01 -2.17945795e-01 -4.82580322e-01\n",
            "  -6.69544147e-02  1.19706237e+00  2.78968762e-01 -1.56884239e+00\n",
            "  -3.69530595e-01 -7.51748254e-01  9.01235772e-01  5.31406436e-01\n",
            "  -1.24218657e+00]\n",
            " [ 1.57601164e+00 -5.14218930e-01  3.98843360e-01 -1.32635313e+00\n",
            "   8.83798274e-01  1.59526059e+00  1.38287326e+00 -2.04582473e-01\n",
            "   7.09881270e-01  8.44095254e-01  4.18706713e-01  3.71687973e-01\n",
            "   2.37781036e+00]\n",
            " [ 1.03257776e+00 -3.93554715e-01  1.23332281e+00 -7.53793010e-01\n",
            "   1.08753099e+00  1.16520651e+00  7.96729280e-01  1.96670444e-01\n",
            "   2.04995075e-01  6.38915375e-01  7.69636938e-01  4.87846855e-01\n",
            "   2.13210921e+00]\n",
            " [-8.37845808e-01  4.08000431e-01 -4.35636085e-01 -4.82580322e-01\n",
            "  -7.46063478e-01  2.89170426e-01  2.69199696e-01 -9.26837722e-01\n",
            "   7.44701007e-01 -1.25329907e+00  8.57369494e-01  1.02508169e+00\n",
            "  -1.42236741e+00]\n",
            " [ 5.77609867e-01  1.27850656e+00 -7.98453236e-01 -2.41502378e-01\n",
            "  -6.10241665e-01  2.89170426e-01  6.89269550e-01 -7.66336556e-01\n",
            "  -1.43202301e-01 -2.82114307e-01 -1.95421180e-01  5.89485877e-01\n",
            "   1.01826400e+00]\n",
            " [ 9.94663772e-01 -5.91788783e-01 -3.26790940e-01 -9.64736212e-01\n",
            "   1.29126371e+00  5.28089358e-01  9.04189011e-01 -1.24784006e+00\n",
            "   1.00535862e-01  4.33735495e-01 -1.51554902e-01  8.79883082e-01\n",
            "   1.10016438e+00]\n",
            " [ 6.91351841e-01 -4.71124568e-01  9.79350801e-01  1.20114539e-01\n",
            "  -2.02776227e-01  4.16593856e-01  6.20886085e-01 -6.86085973e-01\n",
            "   1.70175337e-01 -6.28640326e-01  7.25770660e-01  1.78011442e+00\n",
            "   3.95821090e-01]\n",
            " [-3.19687927e-01  1.02855925e+00  7.23079250e-02  5.72135686e-01\n",
            "   4.76332836e-01 -9.05424235e-01 -7.56552275e-01 -1.56884239e+00\n",
            "  -1.25743390e+00  4.61735003e-02 -7.65682795e-01 -1.89341023e+00\n",
            "  -4.06802663e-01]\n",
            " [-9.89501773e-01 -7.81403979e-01  6.89097081e-01 -1.81232892e-01\n",
            "   3.40511023e-01 -6.02793587e-01 -2.19253624e-01  6.78173943e-01\n",
            "  -9.26646397e-01 -8.88534840e-01  2.17335784e+00 -5.28543365e-01\n",
            "  -1.20942642e+00]\n",
            " [-2.05945953e-01  2.70098470e-01  5.07688505e-01  7.22809401e-01\n",
            "   8.83798274e-01 -1.25583867e+00 -6.00247213e-01 -1.00708831e+00\n",
            "  -5.26219414e-01  2.69071417e+00 -2.08167114e+00 -1.63205275e+00\n",
            "  -7.99924501e-01]\n",
            " [ 3.50125920e-01  8.13087440e-01 -2.17945795e-01 -3.31906607e-01\n",
            "  -6.69544147e-02 -7.46144947e-01 -1.11800773e+00  1.96218328e+00\n",
            "   5.35782582e-01  2.56304669e+00 -1.73074091e+00 -1.57397330e+00\n",
            "  -1.61101514e-01]\n",
            " [ 1.15895773e+00 -3.93554715e-01  1.66870339e+00 -6.06939192e-02\n",
            "   5.44243742e-01  1.08556687e+00  9.72572475e-01  3.61692770e-02\n",
            "   3.44274025e-01 -1.81804144e-01  1.29603227e+00  1.17028029e+00\n",
            "   6.25142163e-01]\n",
            " [-1.94998955e+00 -1.39334393e+00  5.80251936e-01  4.21461970e-01\n",
            "  -7.46063478e-01  3.36954212e-01  3.47421023e-02  4.37422193e-01\n",
            "  -2.12841776e-01 -8.29260653e-01  6.38038104e-01 -4.12384482e-01\n",
            "  -9.50621206e-01]]\n"
          ]
        }
      ]
    },
    {
      "cell_type": "code",
      "source": [
        "print(Y_pred)"
      ],
      "metadata": {
        "colab": {
          "base_uri": "https://localhost:8080/"
        },
        "id": "Wtp3ONnYA1aP",
        "outputId": "aebdbd2b-7120-444c-9e81-ea579f8dae6e"
      },
      "execution_count": null,
      "outputs": [
        {
          "output_type": "stream",
          "name": "stdout",
          "text": [
            "[[0.68219465 0.56377333 0.5829831 ]\n",
            " [0.6137003  0.5878587  0.48766056]\n",
            " [0.5573443  0.25336742 0.7402591 ]\n",
            " [0.7490528  0.49638492 0.39419365]\n",
            " [0.62955654 0.5869572  0.53744984]\n",
            " [0.5339255  0.33574012 0.64744127]\n",
            " [0.53093046 0.5254968  0.28381586]\n",
            " [0.5021809  0.42832395 0.5865504 ]\n",
            " [0.5759754  0.4616643  0.3870634 ]\n",
            " [0.6521055  0.44202733 0.627541  ]\n",
            " [0.6235822  0.52747726 0.27185443]\n",
            " [0.74324644 0.24300751 0.7117778 ]\n",
            " [0.5923324  0.40759063 0.5857751 ]\n",
            " [0.22963099 0.20645078 0.7556461 ]\n",
            " [0.7269322  0.31474876 0.7338845 ]\n",
            " [0.4264636  0.53148144 0.4419782 ]\n",
            " [0.6345413  0.3168635  0.59972316]\n",
            " [0.61009026 0.48468786 0.5960171 ]\n",
            " [0.58614784 0.49428773 0.49547294]\n",
            " [0.39039704 0.5235108  0.5692157 ]\n",
            " [0.7971132  0.23449165 0.28215867]\n",
            " [0.52256364 0.27087262 0.67292684]\n",
            " [0.37651107 0.5062531  0.29934984]\n",
            " [0.32829446 0.5106949  0.10471296]\n",
            " [0.70722973 0.35630137 0.6818679 ]\n",
            " [0.67842406 0.43250364 0.6468792 ]\n",
            " [0.22718816 0.58922833 0.2278559 ]\n",
            " [0.45628455 0.54914033 0.47991344]\n",
            " [0.7256818  0.4453281  0.54564553]\n",
            " [0.5640032  0.56468815 0.54750305]\n",
            " [0.7140368  0.2991325  0.3870359 ]\n",
            " [0.38369066 0.35640132 0.24313979]\n",
            " [0.8030222  0.27885863 0.64604926]\n",
            " [0.3266495  0.3153123  0.7714409 ]\n",
            " [0.57512635 0.5065091  0.58646196]\n",
            " [0.43992662 0.36723867 0.16511518]]\n"
          ]
        }
      ]
    },
    {
      "cell_type": "markdown",
      "source": [
        "model.predict() gives the prediction probability of each class for that data point"
      ],
      "metadata": {
        "id": "f7Gy6XQnA5sn"
      }
    },
    {
      "cell_type": "code",
      "source": [
        "# converting the prediction probability to class labels\n",
        "          #  argmax function-->gives index of maximum value\n",
        "Y_pred_labels = [np.argmax(i) for i in Y_pred]\n",
        "print(Y_pred_labels)"
      ],
      "metadata": {
        "colab": {
          "base_uri": "https://localhost:8080/"
        },
        "id": "WUHFxlCZBDi3",
        "outputId": "a8380787-775c-47a3-fbd6-0ea062d3eff5"
      },
      "execution_count": null,
      "outputs": [
        {
          "output_type": "stream",
          "name": "stdout",
          "text": [
            "[0, 0, 2, 0, 0, 2, 0, 2, 0, 0, 0, 0, 0, 2, 2, 1, 0, 0, 0, 2, 0, 2, 1, 1, 0, 0, 1, 1, 0, 1, 0, 0, 0, 2, 2, 0]\n"
          ]
        }
      ]
    },
    {
      "cell_type": "markdown",
      "source": [
        "**Building the predictive system**"
      ],
      "metadata": {
        "id": "x2_r3nEiBPj3"
      }
    },
    {
      "cell_type": "code",
      "source": [
        "input_data = (11.76,21.6,74.72,427.9,0.08637,0.04966,0.01657,0.01115,0.1495,0.05888,0.4062,1.21,2.635)\n",
        "\n",
        "# change the input_data to a numpy array\n",
        "input_data_as_numpy_array = np.asarray(input_data)\n",
        "\n",
        "# reshape the numpy array as we are predicting for one data point\n",
        "input_data_reshaped = input_data_as_numpy_array.reshape(1,-1)\n",
        "\n",
        "# standardizing the input data\n",
        "input_data_std = scaler.transform(input_data_reshaped)\n",
        "\n",
        "prediction = model.predict(input_data_std)\n",
        "print(prediction)\n",
        "\n",
        "prediction_label = [np.argmax(prediction)]\n",
        "print(prediction_label)\n",
        "\n",
        "if(prediction_label[0] == 0):\n",
        "  print('Red wine')\n",
        "\n",
        "elif(prediction_label[0] == 1):\n",
        "  print('Rose wine')\n",
        "\n",
        "else:\n",
        "  print('White wine')"
      ],
      "metadata": {
        "colab": {
          "base_uri": "https://localhost:8080/",
          "height": 235
        },
        "id": "XzoR0mWlBVk-",
        "outputId": "c40e37ae-62f5-4541-b772-4ca1e4d5e2d8"
      },
      "execution_count": 3,
      "outputs": [
        {
          "output_type": "error",
          "ename": "NameError",
          "evalue": "ignored",
          "traceback": [
            "\u001b[0;31m---------------------------------------------------------------------------\u001b[0m",
            "\u001b[0;31mNameError\u001b[0m                                 Traceback (most recent call last)",
            "\u001b[0;32m<ipython-input-3-093902110102>\u001b[0m in \u001b[0;36m<module>\u001b[0;34m\u001b[0m\n\u001b[1;32m      8\u001b[0m \u001b[0;34m\u001b[0m\u001b[0m\n\u001b[1;32m      9\u001b[0m \u001b[0;31m# standardizing the input data\u001b[0m\u001b[0;34m\u001b[0m\u001b[0;34m\u001b[0m\u001b[0;34m\u001b[0m\u001b[0m\n\u001b[0;32m---> 10\u001b[0;31m \u001b[0minput_data_std\u001b[0m \u001b[0;34m=\u001b[0m \u001b[0mscaler\u001b[0m\u001b[0;34m.\u001b[0m\u001b[0mtransform\u001b[0m\u001b[0;34m(\u001b[0m\u001b[0minput_data_reshaped\u001b[0m\u001b[0;34m)\u001b[0m\u001b[0;34m\u001b[0m\u001b[0;34m\u001b[0m\u001b[0m\n\u001b[0m\u001b[1;32m     11\u001b[0m \u001b[0;34m\u001b[0m\u001b[0m\n\u001b[1;32m     12\u001b[0m \u001b[0mprediction\u001b[0m \u001b[0;34m=\u001b[0m \u001b[0mmodel\u001b[0m\u001b[0;34m.\u001b[0m\u001b[0mpredict\u001b[0m\u001b[0;34m(\u001b[0m\u001b[0minput_data_std\u001b[0m\u001b[0;34m)\u001b[0m\u001b[0;34m\u001b[0m\u001b[0;34m\u001b[0m\u001b[0m\n",
            "\u001b[0;31mNameError\u001b[0m: name 'scaler' is not defined"
          ]
        }
      ]
    }
  ]
}